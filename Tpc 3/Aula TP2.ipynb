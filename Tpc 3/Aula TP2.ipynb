{
 "cells": [
  {
   "cell_type": "markdown",
   "id": "1e545158",
   "metadata": {},
   "source": [
    "# Aula Prática 3 (guião)\n",
    "### Semana de 3 a 7 de Outubro de 2022\n",
    "### José Carlos Ramalho e Luís Cunha\n",
    "### Sinopsis:\n",
    "Algoritmos sobre listas."
   ]
  },
  {
   "cell_type": "markdown",
   "id": "e38d18c4-d7d7-4fea-9bc6-e3f3c903386b",
   "metadata": {},
   "source": [
    "### Exercício 1: Criar uma lista \n",
    "- Defina uma função que recebe um argumento **N** e devolve uma  lista com os números pares até **N**;\n",
    "- Crie um programa que chama a função e imprime a lista resultante."
   ]
  },
  {
   "cell_type": "code",
   "execution_count": 16,
   "id": "af973146-3bb4-4fa8-ba6c-b887b79ccff8",
   "metadata": {},
   "outputs": [
    {
     "name": "stdout",
     "output_type": "stream",
     "text": [
      "[0, 2, 4, 6, 8, 10]\n"
     ]
    }
   ],
   "source": [
    "# Solução do exercício 1\n",
    "def criaLista(N):\n",
    "    lista = []\n",
    "    numPar = 0\n",
    "    while numPar <= N :\n",
    "        lista.append(numPar)\n",
    "        numPar = numPar + 2\n",
    "    return lista\n",
    "listaA= criaLista(10)\n",
    "print(listaA)\n",
    "listaB= criaLista(100)\n"
   ]
  },
  {
   "cell_type": "markdown",
   "id": "bdcbffb0",
   "metadata": {},
   "source": [
    "### Exercício 2: Ler uma lista de N números\n",
    "- Defina uma função que recebe um argumento **N** e lê **N** números armazenando-os numa lista que é devolvida como resultado;\n",
    "- Crie um programa que chama a função e imprime a lista resultante."
   ]
  },
  {
   "cell_type": "code",
   "execution_count": 17,
   "id": "af973146-3bb4-4fa8-ba6c-b887b79ccff8",
   "metadata": {},
   "outputs": [
    {
     "name": "stdout",
     "output_type": "stream",
     "text": [
      "[1, 1, 1, 1, 1]\n"
     ]
    }
   ],
   "source": [
    "# Solução do exercício 2\n",
    "def leLista(N):\n",
    "    Lista = []\n",
    "    while N > 0:\n",
    "        n = int(input(\"Introduza um número \" ))\n",
    "        Lista.append(n)\n",
    "        N = N - 1\n",
    "    return Lista\n",
    "\n",
    "listaC = leLista(5)\n",
    "print(listaC)\n"
   ]
  },
  {
   "cell_type": "markdown",
   "id": "bdcbffb0",
   "metadata": {},
   "source": [
    "### Exercício 3: Somar uma lista de números\n",
    "- Defina uma função que recebe uma lista como argumento e devolve a soma dos números nessa lista."
   ]
  },
  {
   "cell_type": "code",
   "execution_count": 14,
   "id": "64ad6f7b",
   "metadata": {},
   "outputs": [
    {
     "name": "stdout",
     "output_type": "stream",
     "text": [
      "210\n"
     ]
    }
   ],
   "source": [
    "# Solução do exercício 3\n",
    "def somaLista(lista):\n",
    "     soma = 0\n",
    "     for n in lista:\n",
    "        soma = soma + n\n",
    "     return soma\n",
    "\n",
    "print(somaLista(criaLista(28)))\n"
   ]
  },
  {
   "cell_type": "markdown",
   "id": "bdcbffb0",
   "metadata": {},
   "source": [
    "### Exercício 4: Calcular a média duma lista de números\n",
    "- Defina uma função que recebe uma lista como argumento e devolve a média dos números nessa lista."
   ]
  },
  {
   "cell_type": "code",
   "execution_count": 11,
   "id": "a6c32b2e",
   "metadata": {},
   "outputs": [
    {
     "name": "stdout",
     "output_type": "stream",
     "text": [
      "3.0\n"
     ]
    }
   ],
   "source": [
    "# Solução do exercício 4\n",
    "def mediaLista(lista):\n",
    "    media = 0 \n",
    "    soma = 0 \n",
    "    for n in lista:\n",
    "        soma = soma + n\n",
    "        media = soma / len(lista)\n",
    "    \n",
    "    return media\n",
    "print(mediaLista(criaLista(6)))"
   ]
  },
  {
   "cell_type": "markdown",
   "id": "f41ef69b",
   "metadata": {},
   "source": [
    "### Exercício 5: Maior de uma sequência\n",
    "- Defina uma função que recebe uma lista como argumento e devolve o maior número nessa lista."
   ]
  },
  {
   "cell_type": "code",
   "execution_count": 9,
   "id": "86f5b24d",
   "metadata": {},
   "outputs": [
    {
     "name": "stdout",
     "output_type": "stream",
     "text": [
      "12\n"
     ]
    }
   ],
   "source": [
    "# Solução do exercício 5\n",
    "def maiorLista(lista):\n",
    "    res = lista[0]\n",
    "    for n in lista[1:]:\n",
    "        if n > res:\n",
    "            res= n\n",
    "    return res\n",
    "print(maiorLista([-5, 12, -3, 8, 1, 0]))"
   ]
  },
  {
   "cell_type": "markdown",
   "id": "d11cdd11",
   "metadata": {},
   "source": [
    "### Exercício 6: Menor de uma sequência\n",
    "- Defina uma função que recebe uma lista como argumento e devolve o menor número nessa lista."
   ]
  },
  {
   "cell_type": "code",
   "execution_count": 18,
   "id": "7549c7d7",
   "metadata": {},
   "outputs": [
    {
     "name": "stdout",
     "output_type": "stream",
     "text": [
      "12\n"
     ]
    }
   ],
   "source": [
    "# Solução do exercício 6\n",
    "def menorLista(lista):\n",
    "    res = lista[0]\n",
    "    for n in lista[1:]:\n",
    "        if n < res:\n",
    "            res= n\n",
    "    return res\n",
    "print(maiorLista([-5, 12, -3, 8, 1, 0]))"
   ]
  },
  {
   "cell_type": "markdown",
   "id": "775a02a5",
   "metadata": {},
   "source": [
    "### Exercício 7: Contar strings\n",
    "- Defina uma função que recebe uma lista de strings como argumento e devolve número de strings nessa lista que:\n",
    "    1. Têm tamanho maior ou igual a 2;\n",
    "    2. Começam e terminam pelo mesmo caracter.\n",
    "#### Input (exemplo)\n",
    "in: ['abc', 'xyz', 'aba', '1221']\n",
    "#### Output (exemplo)\n",
    "out: 2"
   ]
  },
  {
   "cell_type": "code",
   "execution_count": 19,
   "id": "7390bc6a",
   "metadata": {},
   "outputs": [
    {
     "name": "stdout",
     "output_type": "stream",
     "text": [
      "0\n"
     ]
    }
   ],
   "source": [
    "# Solução do exercício 7\n",
    "def contarStringsLista(lista):\n",
    "    res = 0\n",
    "    for s in lista:\n",
    "        if len(s) >=2 and s[0] == s[-1]:\n",
    "            res = res + 1\n",
    "        return res\n",
    "print(contarStringsLista(['abc', 'xyz', 'aba', '1221']))"
   ]
  },
  {
   "cell_type": "markdown",
   "id": "f9ba457b",
   "metadata": {},
   "source": [
    "### Exercício 8: Remover duplicados\n",
    "- Defina uma função que recebe uma lista como argumento e devolve uma nova lista eliminando elementos repetidos."
   ]
  },
  {
   "cell_type": "code",
   "execution_count": null,
   "id": "0abc61e5",
   "metadata": {},
   "outputs": [],
   "source": [
    "# Solução do exercício 8\n",
    "def remDupLista(lista):\n",
    "    res = lista []\n",
    "    for elem in lista:\n",
    "        if elem not in res:\n",
    "            res.appemd(elem)\n",
    "\n",
    "\n",
    "\n",
    "    \n",
    "    return res\n",
    "print(remDupLista([1,1,3,3,2,2,4]))"
   ]
  },
  {
   "cell_type": "markdown",
   "id": "9bc471d8",
   "metadata": {},
   "source": [
    "### Exercício 9: eVazia?\n",
    "- Defina uma função que recebe uma lista como argumento e devolve um resultado booleano verdadeiro se a lista estiver vazia."
   ]
  },
  {
   "cell_type": "code",
   "execution_count": 17,
   "id": "18cf2aff",
   "metadata": {},
   "outputs": [
    {
     "name": "stdout",
     "output_type": "stream",
     "text": [
      "False\n"
     ]
    }
   ],
   "source": [
    "# Solução do exercício 9\n",
    "def eVazia(lista):\n",
    "    if len(lista) == 0:\n",
    "        valor = True \n",
    "    else:\n",
    "        valor = False    \n",
    "    return valor\n",
    "print(eVazia([2]))"
   ]
  },
  {
   "cell_type": "markdown",
   "id": "72b8fac0",
   "metadata": {},
   "source": [
    "### Exercício 10: Copiar lista\n",
    "- Defina uma função que recebe uma lista como argumento e devolve uma nova lista correspondente a uma cópia da lista recebida."
   ]
  },
  {
   "cell_type": "code",
   "execution_count": 61,
   "id": "a61ca503",
   "metadata": {},
   "outputs": [
    {
     "name": "stdout",
     "output_type": "stream",
     "text": [
      "[1, 2, 3, 4, 5]\n"
     ]
    }
   ],
   "source": [
    "# Solução do exercício 10\n",
    "def copiarLista(lista):\n",
    "    listacopia = lista\n",
    "    return listacopia\n",
    "print(copiarLista([1, 2, 3, 4, 5]))"
   ]
  },
  {
   "cell_type": "markdown",
   "id": "d170cc50",
   "metadata": {},
   "source": [
    "### Exercício 11: Strings maiores que n carateres\n",
    "- Defina uma função que recebe dois argumentos, uma lista de strings e um número inteiro, e que devolve uma nova lista de strings em que estas têm um comprimento igual ou superior ao valor inteiro passado como argumento."
   ]
  },
  {
   "cell_type": "code",
   "execution_count": 66,
   "id": "1944ef1d",
   "metadata": {},
   "outputs": [
    {
     "name": "stdout",
     "output_type": "stream",
     "text": [
      "['logo']\n"
     ]
    }
   ],
   "source": [
    "# Solução do exercício 11\n",
    "def stringsMaioresLista(lista, n):\n",
    "    listares = []\n",
    "    for s in lista:\n",
    "        if len(s) >= n:\n",
    "            listares.append(s)\n",
    "    \n",
    "    return listares\n",
    "print(stringsMaioresLista([\"ola\", \"sei\", \"logo\"], 4))"
   ]
  },
  {
   "cell_type": "markdown",
   "id": "af46fe06",
   "metadata": {},
   "source": [
    "### Exercício 12: Comum?\n",
    "- Defina uma função que recebe duas listas como argumento, e que devolve o valor booleano verdadeiro se as listas tiverem pelo menos um elemento comum."
   ]
  },
  {
   "cell_type": "code",
   "execution_count": 57,
   "id": "7a2f4413",
   "metadata": {},
   "outputs": [
    {
     "name": "stdout",
     "output_type": "stream",
     "text": [
      "True\n"
     ]
    }
   ],
   "source": [
    "# Solução do exercício 12\n",
    "def haComuns(listaA, listaB):\n",
    "    for n in listaA:\n",
    "        for a in listaB:\n",
    "            if n == a:\n",
    "                return True\n",
    "    return False\n",
    "print(haComuns([6, 4, 3], [0, 6, 7]))"
   ]
  },
  {
   "cell_type": "markdown",
   "id": "061bae0e",
   "metadata": {},
   "source": [
    "### Exercício 13: Comuns\n",
    "- Defina uma função que recebe duas listas como argumento, e que devolve uma nova lista com os valores comuns às duas listas."
   ]
  },
  {
   "cell_type": "code",
   "execution_count": 20,
   "id": "02db9458",
   "metadata": {},
   "outputs": [
    {
     "name": "stdout",
     "output_type": "stream",
     "text": [
      "[1, 3, 4]\n"
     ]
    }
   ],
   "source": [
    "# Solução do exercício 13\n",
    "def comuns(listaA, listaB):\n",
    "    lista = []\n",
    "    for n in listaA:\n",
    "        if n in listaB:\n",
    "            lista.append(n)\n",
    "    \n",
    "    return lista\n",
    "print(comuns([1, 2, 3, 4],[1, 4, 3, 5, 6]))"
   ]
  },
  {
   "cell_type": "code",
   "execution_count": 21,
   "id": "86c74a6f",
   "metadata": {},
   "outputs": [
    {
     "name": "stdout",
     "output_type": "stream",
     "text": [
      "[1, 3, 4]\n"
     ]
    }
   ],
   "source": [
    "# Solução do exercício 13\n",
    "def comuns(listaA, listaB):\n",
    "    lista = []\n",
    "    for n in listaA:\n",
    "        for a in listaB:\n",
    "            if n == a:\n",
    "                lista.append(a)\n",
    "    return lista\n",
    "print(comuns([1, 2, 3, 4],[1, 4, 3, 5, 6]))"
   ]
  },
  {
   "cell_type": "markdown",
   "id": "af4f2b11",
   "metadata": {},
   "source": [
    "### Exercício 14: Únicos\n",
    "- Defina uma função que recebe duas listas como argumento, e que devolve uma nova lista com os valores que apenas existem numa delas."
   ]
  },
  {
   "cell_type": "code",
   "execution_count": 69,
   "id": "01a0d35e",
   "metadata": {},
   "outputs": [
    {
     "name": "stdout",
     "output_type": "stream",
     "text": [
      "[1, 2, 4, 3]\n"
     ]
    }
   ],
   "source": [
    "# Solução do exercício 14\n",
    "def unicos(listaA, listaB):\n",
    "    lista=[]\n",
    "    for n in listaA:\n",
    "        lista.append(n)\n",
    "    return lista\n",
    "print (unicos ([1, 2, 4, 3],[5, 6, 7, 8]))"
   ]
  },
  {
   "cell_type": "markdown",
   "id": "2acbab46",
   "metadata": {},
   "source": [
    "### Exercício 15: indiceDe\n",
    "- Defina uma função que recebe uma lista e um elemento como argumento, e que devolve o índice desse elemento na lista. No caso do elemento não existir na lista deverá devolver o valor -1."
   ]
  },
  {
   "cell_type": "code",
   "execution_count": 14,
   "id": "3891e6c3",
   "metadata": {},
   "outputs": [
    {
     "name": "stdout",
     "output_type": "stream",
     "text": [
      "0\n"
     ]
    }
   ],
   "source": [
    "# Solução do exercício 15\n",
    "def indice(lista, n): \n",
    "    for i in lista:\n",
    "        if i == n:\n",
    "            return lista.index(i)\n",
    "        else:\n",
    "            return -1\n",
    "\n",
    "print(indice([3, 1, 2, 4], 3))"
   ]
  },
  {
   "cell_type": "markdown",
   "id": "1d9c2fbc",
   "metadata": {},
   "source": [
    "### Exercício 16: estaOrdenada\n",
    "- Defina uma função que recebe uma lista de números e verifica se a mesma está ordenada por ordem crescente."
   ]
  },
  {
   "cell_type": "code",
   "execution_count": 12,
   "id": "fb44546a",
   "metadata": {},
   "outputs": [
    {
     "name": "stdout",
     "output_type": "stream",
     "text": [
      "True\n"
     ]
    }
   ],
   "source": [
    "# Solução do exercício 16\n",
    "def estaOrdenada(lista):\n",
    "    if sorted(lista) == lista:\n",
    "        res = True\n",
    "    else:\n",
    "        res = False\n",
    "    return res\n",
    "\n",
    "print(estaOrdenada([2, 3, 5]))"
   ]
  },
  {
   "cell_type": "markdown",
   "id": "4c48dc90",
   "metadata": {},
   "source": [
    "### Exercício 17: estaOrdenadaCD\n",
    "- Modifique a função do exercício anterior para receber um parâmetro extra, **ordem**, que poderá ter valores \"C\" ou \"D\" e que vai verificar se a lista está ordenada por ordem crescente se **ordem=\"C\"** ou se está ordenada por ordem decrescente se **ordem=\"D\"**."
   ]
  },
  {
   "cell_type": "code",
   "execution_count": 28,
   "id": "f4b83960",
   "metadata": {},
   "outputs": [
    {
     "name": "stdout",
     "output_type": "stream",
     "text": [
      "False\n"
     ]
    }
   ],
   "source": [
    "# Solução do exercício 16\n",
    "def estaOrdenadaCD(lista, ordem):\n",
    "    if sorted(lista) == lista and ordem == \"C\":\n",
    "        res = True\n",
    "    elif sorted(lista, reverse=True) == lista and ordem == \"D\":\n",
    "        res = True\n",
    "    else:\n",
    "        res = False\n",
    "    return res\n",
    "\n",
    "print(estaOrdenadaCD([5, 3, 5], \"D\"))"
   ]
  },
  {
   "cell_type": "markdown",
   "id": "4193a91b",
   "metadata": {},
   "source": [
    "### TPC3: Aplicação para manipulação de listas de inteiros\n",
    "- Crie uma aplicação em Python que coloca no monitor o seguinte menu:\n",
    "    * (1) Criar Lista \n",
    "    * (2) Ler Lista\n",
    "    * (3) Soma\n",
    "    * (4) Média\n",
    "    * (5) Maior\n",
    "    * (6) Menor\n",
    "    * (7) estaOrdenada por ordem crescente\n",
    "    * (8) estaOrdenada por ordem decrescente\n",
    "    * (9) Procura um elemento\n",
    "    * (0) Sair\n",
    "- O utilizador irá escolher uma das opções introduzindo o número correspondente;\n",
    "- Se a opção não for sair, a aplicação executa a operação pretendida, apresenta o resultado e a seguir apresenta de novo o menu;\n",
    "- Se a opção for sair, a aplicação termina colocando uma mensagem no monitor.\n",
    "\n",
    "* No desenvolvimento da aplicação deverá ter em atenção o seguinte:\n",
    "    - A aplicação terá uma variável interna para guardar uma lista de números;\n",
    "    - Na opção 1, deverá ser criada uma lista de números aleatórios entre 1 e 100 que será guardada na variável interna;\n",
    "    - Na opção 2, deverá ser criada uma lista com números introduzidos pelo utilizador, que será guardada na variável interna;\n",
    "    - Nestas primeiras opções, se a variável interna já tiver uma lista, esta será sobreposta/apagada pela nova lista;\n",
    "    - Na opção 3, será calculada a soma dos elementos na lista no momento;\n",
    "    - Na opção 4, será calculada a média dos elementos na lista no momento;\n",
    "    - Na opção 5, será calculado o maior elemento da lista no momento;\n",
    "    - Na opção 6, será calculado o menor elemento da lista no momento;\n",
    "    - Na opção 7, a aplicação deverá indicar (Sim/Não) se a lista está ordenada por ordem crescente;\n",
    "    - Na opção 8, a aplicação deverá indicar (Sim/Não) se a lista está ordenada por ordem decrescente;\n",
    "    - Na opção 9, a aplicação irá procurar um ellmento na lista, se o encontrar deverá devolver a sua posição;\n",
    "    - Se o utilizador selecionar a opção 0, a aplicação deverá terminar mostrando a lista que está nesse momento guardada."
   ]
  },
  {
   "cell_type": "code",
   "execution_count": 101,
   "id": "8d3dd747",
   "metadata": {},
   "outputs": [
    {
     "name": "stdout",
     "output_type": "stream",
     "text": [
      "\n",
      "    -----------------------\n",
      "    Menu de opções:\n",
      "        (1) Criar Lista \n",
      "        (2) Ler Lista\n",
      "        (3) Soma\n",
      "        (4) Média\n",
      "        (5) Maior\n",
      "        (6) Menor\n",
      "        (7) estaOrdenada por ordem crescente\n",
      "        (8) estaOrdenada por ordem decrescente\n",
      "        (9) Procura um elemento\n",
      "        (0) Sair\n",
      "    -----------------------\n",
      "     \n",
      "Criada lista: [44, 46, 61]\n",
      "\n",
      "    -----------------------\n",
      "    Menu de opções:\n",
      "        (1) Criar Lista \n",
      "        (2) Ler Lista\n",
      "        (3) Soma\n",
      "        (4) Média\n",
      "        (5) Maior\n",
      "        (6) Menor\n",
      "        (7) estaOrdenada por ordem crescente\n",
      "        (8) estaOrdenada por ordem decrescente\n",
      "        (9) Procura um elemento\n",
      "        (0) Sair\n",
      "    -----------------------\n",
      "     \n"
     ]
    },
    {
     "ename": "ValueError",
     "evalue": "invalid literal for int() with base 10: ''",
     "output_type": "error",
     "traceback": [
      "\u001b[1;31m---------------------------------------------------------------------------\u001b[0m",
      "\u001b[1;31mValueError\u001b[0m                                Traceback (most recent call last)",
      "\u001b[1;32m~\\AppData\\Local\\Temp/ipykernel_10600/2751059143.py\u001b[0m in \u001b[0;36m<module>\u001b[1;34m\u001b[0m\n\u001b[0;32m    131\u001b[0m         \u001b[0mprocuraElemento\u001b[0m\u001b[1;33m(\u001b[0m\u001b[1;33m)\u001b[0m\u001b[1;33m\u001b[0m\u001b[1;33m\u001b[0m\u001b[0m\n\u001b[0;32m    132\u001b[0m \u001b[1;33m\u001b[0m\u001b[0m\n\u001b[1;32m--> 133\u001b[1;33m \u001b[0mmenu\u001b[0m\u001b[1;33m(\u001b[0m\u001b[1;33m)\u001b[0m\u001b[1;33m\u001b[0m\u001b[1;33m\u001b[0m\u001b[0m\n\u001b[0m",
      "\u001b[1;32m~\\AppData\\Local\\Temp/ipykernel_10600/2751059143.py\u001b[0m in \u001b[0;36mmenu\u001b[1;34m()\u001b[0m\n\u001b[0;32m    113\u001b[0m         \u001b[0mmenu\u001b[0m\u001b[1;33m(\u001b[0m\u001b[1;33m)\u001b[0m\u001b[1;33m\u001b[0m\u001b[1;33m\u001b[0m\u001b[0m\n\u001b[0;32m    114\u001b[0m     \u001b[1;32melif\u001b[0m \u001b[0mmenuOption\u001b[0m \u001b[1;33m==\u001b[0m \u001b[1;36m1\u001b[0m\u001b[1;33m:\u001b[0m\u001b[1;33m\u001b[0m\u001b[1;33m\u001b[0m\u001b[0m\n\u001b[1;32m--> 115\u001b[1;33m         \u001b[0mcriarLista\u001b[0m\u001b[1;33m(\u001b[0m\u001b[1;33m)\u001b[0m\u001b[1;33m\u001b[0m\u001b[1;33m\u001b[0m\u001b[0m\n\u001b[0m\u001b[0;32m    116\u001b[0m     \u001b[1;32melif\u001b[0m \u001b[0mmenuOption\u001b[0m \u001b[1;33m==\u001b[0m \u001b[1;36m2\u001b[0m\u001b[1;33m:\u001b[0m\u001b[1;33m\u001b[0m\u001b[1;33m\u001b[0m\u001b[0m\n\u001b[0;32m    117\u001b[0m         \u001b[0mlistaUtilizador\u001b[0m\u001b[1;33m(\u001b[0m\u001b[1;33m)\u001b[0m\u001b[1;33m\u001b[0m\u001b[1;33m\u001b[0m\u001b[0m\n",
      "\u001b[1;32m~\\AppData\\Local\\Temp/ipykernel_10600/2751059143.py\u001b[0m in \u001b[0;36mcriarLista\u001b[1;34m()\u001b[0m\n\u001b[0;32m     17\u001b[0m         \u001b[0mlista\u001b[0m\u001b[1;33m.\u001b[0m\u001b[0mappend\u001b[0m\u001b[1;33m(\u001b[0m\u001b[0mi\u001b[0m\u001b[1;33m)\u001b[0m\u001b[1;33m\u001b[0m\u001b[1;33m\u001b[0m\u001b[0m\n\u001b[0;32m     18\u001b[0m     \u001b[0mprint\u001b[0m\u001b[1;33m(\u001b[0m\u001b[1;34m\"Criada lista:\"\u001b[0m\u001b[1;33m,\u001b[0m \u001b[0mlista\u001b[0m\u001b[1;33m)\u001b[0m\u001b[1;33m\u001b[0m\u001b[1;33m\u001b[0m\u001b[0m\n\u001b[1;32m---> 19\u001b[1;33m     \u001b[0mmenu\u001b[0m\u001b[1;33m(\u001b[0m\u001b[1;33m)\u001b[0m\u001b[1;33m\u001b[0m\u001b[1;33m\u001b[0m\u001b[0m\n\u001b[0m\u001b[0;32m     20\u001b[0m \u001b[1;33m\u001b[0m\u001b[0m\n\u001b[0;32m     21\u001b[0m \u001b[1;32mdef\u001b[0m \u001b[0mlistaUtilizador\u001b[0m\u001b[1;33m(\u001b[0m\u001b[1;33m)\u001b[0m\u001b[1;33m:\u001b[0m\u001b[1;33m\u001b[0m\u001b[1;33m\u001b[0m\u001b[0m\n",
      "\u001b[1;32m~\\AppData\\Local\\Temp/ipykernel_10600/2751059143.py\u001b[0m in \u001b[0;36mmenu\u001b[1;34m()\u001b[0m\n\u001b[0;32m    109\u001b[0m      ''')\n\u001b[0;32m    110\u001b[0m     \u001b[0mtime\u001b[0m\u001b[1;33m.\u001b[0m\u001b[0msleep\u001b[0m\u001b[1;33m(\u001b[0m\u001b[1;36m1\u001b[0m\u001b[1;33m)\u001b[0m\u001b[1;33m\u001b[0m\u001b[1;33m\u001b[0m\u001b[0m\n\u001b[1;32m--> 111\u001b[1;33m     \u001b[0mmenuOption\u001b[0m \u001b[1;33m=\u001b[0m \u001b[0mint\u001b[0m\u001b[1;33m(\u001b[0m\u001b[0minput\u001b[0m\u001b[1;33m(\u001b[0m\u001b[1;34m\"Introduza um número entre 0 e 9\"\u001b[0m\u001b[1;33m)\u001b[0m\u001b[1;33m)\u001b[0m\u001b[1;33m\u001b[0m\u001b[1;33m\u001b[0m\u001b[0m\n\u001b[0m\u001b[0;32m    112\u001b[0m     \u001b[1;32mif\u001b[0m \u001b[0mmenuOption\u001b[0m \u001b[1;33m==\u001b[0m \u001b[1;36m0\u001b[0m\u001b[1;33m:\u001b[0m\u001b[1;33m\u001b[0m\u001b[1;33m\u001b[0m\u001b[0m\n\u001b[0;32m    113\u001b[0m         \u001b[0mmenu\u001b[0m\u001b[1;33m(\u001b[0m\u001b[1;33m)\u001b[0m\u001b[1;33m\u001b[0m\u001b[1;33m\u001b[0m\u001b[0m\n",
      "\u001b[1;31mValueError\u001b[0m: invalid literal for int() with base 10: ''"
     ]
    }
   ],
   "source": [
    "from functools import cache\n",
    "import random\n",
    "import time\n",
    "\n",
    "lista = []\n",
    "\n",
    "def criarLista():\n",
    "    N = int(input(\"Quantos números terá a lista?\"))\n",
    "    cachedLista = []\n",
    "    while N > 0:\n",
    "        a = random.randrange(1,100)\n",
    "        if len(lista) > 0: \n",
    "            lista.pop(len(lista)-1)\n",
    "        cachedLista.append(a)\n",
    "        N=N-1\n",
    "    for i in cachedLista:\n",
    "        lista.append(i)\n",
    "    print(\"Criada lista:\", lista)\n",
    "    menu()\n",
    "\n",
    "def listaUtilizador():\n",
    "    N = int(input(\"Quantos números terá a lista?\"))\n",
    "    cachedLista = []\n",
    "    while N > 0:\n",
    "        a = int(input(\"Introduza um número\"))\n",
    "        if len(lista) > 0: \n",
    "            lista.pop(len(lista)-1)\n",
    "        cachedLista.append(a)\n",
    "        N=N-1\n",
    "    for i in cachedLista:\n",
    "        lista.append(i)\n",
    "    print(\"Criada lista do utilizador:\", lista)\n",
    "    menu()\n",
    "\n",
    "def somarLista():\n",
    "     soma = 0\n",
    "     for n in lista:\n",
    "        soma = soma + n\n",
    "     print(\"A soma da lista\", lista, \"é:\", soma )\n",
    "     menu()\n",
    "\n",
    "def mediaLista():\n",
    "     media = 0 \n",
    "     soma = 0 \n",
    "     for n in lista:\n",
    "        soma = soma + n\n",
    "        media = soma / len(lista)\n",
    "     print(\"A média da lista é:\", media)\n",
    "     menu()\n",
    "\n",
    "def maiorLista():\n",
    "     res = lista[0]\n",
    "     for n in lista[1:]:\n",
    "        if n > res:\n",
    "            res= n\n",
    "     print(\"A maior da lista é:\", res)\n",
    "     menu()\n",
    "\n",
    "def menorLista():\n",
    "     res = lista[0]\n",
    "     for n in lista[1:]:\n",
    "        if n < res:\n",
    "            res= n\n",
    "     print(\"A menor da lista é:\", res)\n",
    "     menu()\n",
    "\n",
    "def estarOrdenada():\n",
    "    if sorted(lista) == lista:\n",
    "        res = True\n",
    "    else:\n",
    "        res = False\n",
    "    print(\"A lista está ordenada por ordem Crescente?:\", res)\n",
    "    menu()\n",
    "\n",
    "def estarOrdenadaDescrescente():\n",
    "    if sorted(lista, reverse=True) == lista:\n",
    "        res = True\n",
    "    else:\n",
    "        res = False\n",
    "    print(\"A lista está ordenada por ordem Decrescente?:\", res)\n",
    "    menu()\n",
    "    \n",
    "\n",
    "def procuraElemento():\n",
    "    print(lista)\n",
    "    n = int(input(\"Introduza um número para procurar\"))\n",
    "    if n in lista:\n",
    "        print(\"A posição do número é, #{}\".format(lista.index(n)))\n",
    "    if n not in lista:\n",
    "        print('Não está na lista')\n",
    "    menu()\n",
    "\n",
    "def menu():\n",
    "    time.sleep(0.5)\n",
    "    print('''\n",
    "    -----------------------\n",
    "    Menu de opções:\n",
    "        (1) Criar Lista \n",
    "        (2) Ler Lista\n",
    "        (3) Soma\n",
    "        (4) Média\n",
    "        (5) Maior\n",
    "        (6) Menor\n",
    "        (7) estaOrdenada por ordem crescente\n",
    "        (8) estaOrdenada por ordem decrescente\n",
    "        (9) Procura um elemento\n",
    "        (0) Sair\n",
    "    -----------------------\n",
    "     ''')\n",
    "    time.sleep(1)\n",
    "    menuOption = int(input(\"Introduza um número entre 0 e 9\"))\n",
    "    if menuOption == 0:\n",
    "        menu()\n",
    "    elif menuOption == 1:\n",
    "        criarLista()\n",
    "    elif menuOption == 2:\n",
    "        listaUtilizador()\n",
    "    elif menuOption == 3:\n",
    "        somarLista()\n",
    "    elif menuOption == 4:\n",
    "        mediaLista()\n",
    "    elif menuOption == 5:\n",
    "        maiorLista()\n",
    "    elif menuOption == 6:\n",
    "        menorLista()\n",
    "    elif menuOption == 7:\n",
    "        estarOrdenada()\n",
    "    elif menuOption == 8:\n",
    "        estarOrdenadaDescrescente()\n",
    "    elif menuOption == 9:\n",
    "        procuraElemento()\n",
    "    \n",
    "menu()"
   ]
  }
 ],
 "metadata": {
  "kernelspec": {
   "display_name": "Python 3.9.7 ('base')",
   "language": "python",
   "name": "python3"
  },
  "language_info": {
   "codemirror_mode": {
    "name": "ipython",
    "version": 3
   },
   "file_extension": ".py",
   "mimetype": "text/x-python",
   "name": "python",
   "nbconvert_exporter": "python",
   "pygments_lexer": "ipython3",
   "version": "3.9.7"
  },
  "vscode": {
   "interpreter": {
    "hash": "ca02d05c83cb06a4d3d1bb3c2ad95bd9ee4b26f688526444572dc942a69d580d"
   }
  }
 },
 "nbformat": 4,
 "nbformat_minor": 5
}
